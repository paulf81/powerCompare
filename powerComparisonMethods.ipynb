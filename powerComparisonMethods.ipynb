{
 "cells": [
  {
   "cell_type": "markdown",
   "metadata": {},
   "source": [
    "# Power Comparisons"
   ]
  },
  {
   "cell_type": "markdown",
   "metadata": {},
   "source": [
    "The purpose of this notebook is to compare methods of power comparison for use in field test results of wind farm controls"
   ]
  },
  {
   "cell_type": "code",
   "execution_count": 161,
   "metadata": {
    "collapsed": true
   },
   "outputs": [],
   "source": [
    "%matplotlib inline\n",
    "\n",
    "import sys\n",
    "import imp\n",
    "import os\n",
    "import pandas as pd\n",
    "import numpy as np\n",
    "import matplotlib.pyplot as plt\n",
    "import seaborn as sns"
   ]
  },
  {
   "cell_type": "markdown",
   "metadata": {},
   "source": [
    "## Problem Definition"
   ]
  },
  {
   "cell_type": "raw",
   "metadata": {},
   "source": [
    "turbC is the controlled turbine and turbRef is the reference turbine.  For simplicity (maybe this can be made more sophisticated later on), assume the turbRef is a random collection of powers from 0.1 to 5 MW, and turbC is some steady gain on that (for example times 1.05) plus a noise of some amplitude and both turbines saturate at 5MW"
   ]
  },
  {
   "cell_type": "code",
   "execution_count": 162,
   "metadata": {},
   "outputs": [],
   "source": [
    "N = 100 # Number of data points\n",
    "powGain = 1.05 # Multiplier from turbRef to turbC\n",
    "noiseAmp = 200 # kW, determines amplitude of random noise\n",
    "\n",
    "# Note that when turbRef is generated, the max is 7MW and this is clipped down to 5MW, to force the distribution to include\n",
    "# a number of points at exactly 5MW, to make the fitting problem more realistic\n",
    "turbRef = np.random.uniform(low = 100., high = 7000.,size=N)\n",
    "turbC = powGain * turbRef + np.random.normal(loc = 0.0, scale=noiseAmp, size = N)\n",
    "\n",
    "# Coerce into range\n",
    "turbRef = np.clip(turbRef,0.,5000.)\n",
    "turbC = np.clip(turbC,0.,5000.)"
   ]
  },
  {
   "cell_type": "code",
   "execution_count": 163,
   "metadata": {},
   "outputs": [
    {
     "data": {
      "text/plain": [
       "<matplotlib.text.Text at 0xff002e8>"
      ]
     },
     "execution_count": 163,
     "metadata": {},
     "output_type": "execute_result"
    },
    {
     "data": {
      "image/png": "[encoded data removed]",
      "text/plain": [
       "<matplotlib.figure.Figure at 0xeb98a90>"
      ]
     },
     "metadata": {},
     "output_type": "display_data"
    }
   ],
   "source": [
    "# Compare the power in a plot\n",
    "fig, ax = plt.subplots()\n",
    "ax.scatter(turbRef, turbC, s=30,alpha=0.5)\n",
    "ax.set_xlabel('Reference Turbine Power (kW)')\n",
    "ax.set_ylabel('Control Turbine Power (kW)')"
   ]
  },
  {
   "cell_type": "markdown",
   "metadata": {},
   "source": [
    "## Evaluation Functions"
   ]
  },
  {
   "cell_type": "markdown",
   "metadata": {},
   "source": [
    "Before defining functions for determination of offsets, define a function to evaluate the answers with bootstrapping"
   ]
  },
  {
   "cell_type": "code",
   "execution_count": 164,
   "metadata": {
    "collapsed": true
   },
   "outputs": [],
   "source": [
    "# define a boostrap function\n",
    "# Ref: https://machinelearningmastery.com/calculate-bootstrap-confidence-intervals-machine-learning-results-python/\n",
    "def bootstrap(x, y,fit_func, n_iterations = 100, n_use = 0.5):\n",
    "\n",
    "    \n",
    "    fit_values = np.zeros(n_iterations)\n",
    "    n_size = n_size = int(len(x) * n_use)\n",
    "       \n",
    "    for idx in range(n_iterations):\n",
    "        random_index = np.random.randint(0,len(x),size=n_size)\n",
    "        sub_x = x[random_index]\n",
    "        sub_y = y[random_index]\n",
    "        #data_sub = np.random.choice(data,size=n_size,replace=True)\n",
    "        fit_values[idx] = fit_func(sub_x,sub_y)\n",
    "        \n",
    "    # Gather statistics of results\n",
    "    meanVal = np.mean(fit_values)\n",
    "    alpha = 0.95\n",
    "    p = ((1.0-alpha)/2.0) * 100\n",
    "    lower = np.percentile(fit_values, p)\n",
    "    p = (alpha+((1.0-alpha)/2.0)) * 100\n",
    "    upper = np.percentile(fit_values, p)\n",
    "    print('%.1f confidence interval %.2f and %.2f' % (alpha*100, lower, upper))\n",
    "    return meanVal, lower, upper, fit_values\n",
    "    "
   ]
  },
  {
   "cell_type": "markdown",
   "metadata": {},
   "source": [
    "## Power Ratios"
   ]
  },
  {
   "cell_type": "markdown",
   "metadata": {},
   "source": [
    "A first naive approach would be to compute power ratios, and then statistics on those ratios, looked at in this section"
   ]
  },
  {
   "cell_type": "code",
   "execution_count": 165,
   "metadata": {},
   "outputs": [],
   "source": [
    "def powRatio(x,y):\n",
    "    return np.mean(y/x) # simply return the ratio of all the mean values"
   ]
  },
  {
   "cell_type": "code",
   "execution_count": 166,
   "metadata": {},
   "outputs": [
    {
     "name": "stdout",
     "output_type": "stream",
     "text": [
      "95.0 confidence interval 0.99 and 1.07\n"
     ]
    }
   ],
   "source": [
    "# Compute the statistics through bootstrapping of this appoach\n",
    "ratio_meanVal, ratio_lower, ratio_upper, ratio_fit_values = bootstrap(x=turbRef,y=turbC,fit_func=powRatio)"
   ]
  },
  {
   "cell_type": "markdown",
   "metadata": {},
   "source": [
    "## Slope fit method"
   ]
  },
  {
   "cell_type": "markdown",
   "metadata": {},
   "source": [
    "This is an example method which uses fit slope to help with the noise,\n",
    "Also, data where the reference turbine is near rated is thrown out in this method or it biases the slope"
   ]
  },
  {
   "cell_type": "code",
   "execution_count": 167,
   "metadata": {},
   "outputs": [
    {
     "data": {
      "text/plain": [
       "0.9979555371938118"
      ]
     },
     "execution_count": 167,
     "metadata": {},
     "output_type": "execute_result"
    },
    {
     "data": {
      "image/png": "[encoded data removed]",
      "text/plain": [
       "<matplotlib.figure.Figure at 0xfdf0b70>"
      ]
     },
     "metadata": {},
     "output_type": "display_data"
    }
   ],
   "source": [
    "# First define a slope fitting method\n",
    "def fitSlope(x,y,plot=False):\n",
    "    x = x[:,np.newaxis]\n",
    "    a, _, _, _ = np.linalg.lstsq(x, y)\n",
    "    \n",
    "    if plot:\n",
    "        fig, ax = plt.subplots()\n",
    "        ax.scatter(x,y)\n",
    "        ax.plot(x,a*x) \n",
    "    return a[0]\n",
    "\n",
    "xTest = np.arange(0.,10.,1.)\n",
    "yTest = xTest + 2 *np.random.normal(size=len(xTest))\n",
    "fitSlope(xTest,yTest,plot=True)"
   ]
  },
  {
   "cell_type": "code",
   "execution_count": 168,
   "metadata": {
    "collapsed": true
   },
   "outputs": [],
   "source": [
    "# First remove rated and near-rated points from reference turbine\n",
    "powerThreshold = 4500 #kW\n",
    "turbC_limit = turbC[turbRef <= powerThreshold]\n",
    "turbRef_limit = turbRef[turbRef <= powerThreshold]"
   ]
  },
  {
   "cell_type": "code",
   "execution_count": 169,
   "metadata": {},
   "outputs": [
    {
     "name": "stdout",
     "output_type": "stream",
     "text": [
      "95.0 confidence interval 1.04 and 1.10\n"
     ]
    }
   ],
   "source": [
    "# Now get stats for this method\n",
    "slope_meanVal, slope_lower, slope_upper, slope_fit_values = bootstrap(x=turbRef_limit,y=turbC_limit,fit_func=fitSlope)"
   ]
  },
  {
   "cell_type": "markdown",
   "metadata": {},
   "source": [
    "## Compare the statistics of the methods"
   ]
  },
  {
   "cell_type": "code",
   "execution_count": 170,
   "metadata": {},
   "outputs": [
    {
     "data": {
      "text/plain": [
       "<matplotlib.lines.Line2D at 0xe8e9198>"
      ]
     },
     "execution_count": 170,
     "metadata": {},
     "output_type": "execute_result"
    },
    {
     "data": {
      "image/png": "[encoded data removed]",
      "text/plain": [
       "<matplotlib.figure.Figure at 0xebbc2e8>"
      ]
     },
     "metadata": {},
     "output_type": "display_data"
    }
   ],
   "source": [
    "# Show in a plot this method\n",
    "# Black vertical line is \"true\" power gain\n",
    "# Red lines confidence interval\n",
    "\n",
    "fig, axarr = plt.subplots(2,1,figsize=(10,6),sharex=True)\n",
    "\n",
    "ax = axarr[0]\n",
    "ax.set_title('Ratio Method')\n",
    "sns.distplot(ratio_fit_values,ax=ax)\n",
    "ax.axvline(ratio_lower,color='r')\n",
    "ax.axvline(ratio_upper,color='r')\n",
    "ax.axvline(powGain,color='k')\n",
    "\n",
    "ax = axarr[1]\n",
    "ax.set_title('Slope Method')\n",
    "sns.distplot(slope_fit_values,ax=ax)\n",
    "ax.axvline(slope_lower,color='r')\n",
    "ax.axvline(slope_upper,color='r')\n",
    "ax.axvline(powGain,color='k')"
   ]
  },
  {
   "cell_type": "code",
   "execution_count": null,
   "metadata": {
    "collapsed": true
   },
   "outputs": [],
   "source": []
  }
 ],
 "metadata": {
  "kernelspec": {
   "display_name": "Python 3",
   "language": "python",
   "name": "python3"
  },
  "language_info": {
   "codemirror_mode": {
    "name": "ipython",
    "version": 3
   },
   "file_extension": ".py",
   "mimetype": "text/x-python",
   "name": "python",
   "nbconvert_exporter": "python",
   "pygments_lexer": "ipython3",
   "version": "3.6.1"
  }
 },
 "nbformat": 4,
 "nbformat_minor": 2
}
